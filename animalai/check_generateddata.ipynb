{
 "cells": [
  {
   "cell_type": "code",
   "execution_count": 1,
   "metadata": {},
   "outputs": [],
   "source": [
    "from PIL import Image\n",
    "import os, glob\n",
    "import numpy as np\n",
    "from sklearn import model_selection\n",
    "\n",
    "classes = [\"monkey\", \"boar\", \"crow\"]\n",
    "num_classes = len(classes)\n",
    "image_size = 50\n",
    "\n",
    "X = []\n",
    "Y = []\n",
    "for index, classlabel in enumerate(classes):\n",
    "  photos_dir = \"./\" + classlabel\n",
    "  files = glob.glob(photos_dir + \"/*.jpg\")\n",
    "  for i, file in enumerate(files):\n",
    "    if i >= 200: break\n",
    "    image = Image.open(file)\n",
    "    image = image.convert(\"RGB\")\n",
    "    image = image.resize((image_size, image_size))\n",
    "    data = np.asarray(image)\n",
    "    X.append(data)\n",
    "    Y.append(index)\n",
    "\n",
    "X = np.array(X)\n",
    "Y = np.array(Y)\n",
    "\n",
    "x_train, x_test, y_train, y_test = model_selection.train_test_split(X, Y)\n",
    "xy = (x_train, x_test, y_train, y_test)\n",
    "np.save(\"./animal.npy\", xy)"
   ]
  },
  {
   "cell_type": "code",
   "execution_count": 2,
   "metadata": {},
   "outputs": [
    {
     "data": {
      "text/plain": [
       "413"
      ]
     },
     "execution_count": 2,
     "metadata": {},
     "output_type": "execute_result"
    }
   ],
   "source": [
    "len(x_train)"
   ]
  },
  {
   "cell_type": "code",
   "execution_count": 3,
   "metadata": {},
   "outputs": [
    {
     "data": {
      "text/plain": [
       "138"
      ]
     },
     "execution_count": 3,
     "metadata": {},
     "output_type": "execute_result"
    }
   ],
   "source": [
    "len(x_test)"
   ]
  },
  {
   "cell_type": "code",
   "execution_count": 4,
   "metadata": {},
   "outputs": [
    {
     "data": {
      "text/plain": [
       "413"
      ]
     },
     "execution_count": 4,
     "metadata": {},
     "output_type": "execute_result"
    }
   ],
   "source": [
    "len(y_train)"
   ]
  },
  {
   "cell_type": "code",
   "execution_count": 5,
   "metadata": {},
   "outputs": [
    {
     "data": {
      "text/plain": [
       "138"
      ]
     },
     "execution_count": 5,
     "metadata": {},
     "output_type": "execute_result"
    }
   ],
   "source": [
    "len(y_test)"
   ]
  },
  {
   "cell_type": "code",
   "execution_count": 6,
   "metadata": {},
   "outputs": [
    {
     "ename": "TypeError",
     "evalue": "'numpy.ndarray' object is not callable",
     "output_type": "error",
     "traceback": [
      "\u001b[0;31m---------------------------------------------------------------------------\u001b[0m",
      "\u001b[0;31mTypeError\u001b[0m                                 Traceback (most recent call last)",
      "\u001b[0;32m<ipython-input-6-27b93a5a38d8>\u001b[0m in \u001b[0;36m<module>\u001b[0;34m\u001b[0m\n\u001b[0;32m----> 1\u001b[0;31m \u001b[0mx_train\u001b[0m\u001b[0;34m(\u001b[0m\u001b[0;36m100\u001b[0m\u001b[0;34m)\u001b[0m\u001b[0;34m\u001b[0m\u001b[0m\n\u001b[0m",
      "\u001b[0;31mTypeError\u001b[0m: 'numpy.ndarray' object is not callable"
     ]
    }
   ],
   "source": [
    "x_train(100)"
   ]
  },
  {
   "cell_type": "code",
   "execution_count": 7,
   "metadata": {},
   "outputs": [
    {
     "data": {
      "text/plain": [
       "array([[[229, 233, 244],\n",
       "        [229, 233, 244],\n",
       "        [230, 234, 245],\n",
       "        ...,\n",
       "        [227, 231, 242],\n",
       "        [224, 228, 239],\n",
       "        [102,  85,  78]],\n",
       "\n",
       "       [[229, 233, 244],\n",
       "        [229, 233, 244],\n",
       "        [230, 234, 245],\n",
       "        ...,\n",
       "        [228, 232, 243],\n",
       "        [228, 232, 243],\n",
       "        [224, 228, 239]],\n",
       "\n",
       "       [[229, 233, 244],\n",
       "        [229, 233, 244],\n",
       "        [230, 234, 245],\n",
       "        ...,\n",
       "        [229, 233, 244],\n",
       "        [226, 232, 246],\n",
       "        [216, 214, 219]],\n",
       "\n",
       "       ...,\n",
       "\n",
       "       [[ 75,  74,  18],\n",
       "        [113, 104,  39],\n",
       "        [116, 118,  43],\n",
       "        ...,\n",
       "        [239, 250, 252],\n",
       "        [ 66,  63,  56],\n",
       "        [103,  91,   7]],\n",
       "\n",
       "       [[ 72,  76,  26],\n",
       "        [101,  98,  47],\n",
       "        [128, 126, 101],\n",
       "        ...,\n",
       "        [231, 239, 252],\n",
       "        [227, 236, 251],\n",
       "        [ 92,  81,  49]],\n",
       "\n",
       "       [[ 80,  78,  19],\n",
       "        [136, 138, 135],\n",
       "        [173, 175, 172],\n",
       "        ...,\n",
       "        [139, 137, 138],\n",
       "        [235, 245, 254],\n",
       "        [234, 231, 240]]], dtype=uint8)"
      ]
     },
     "execution_count": 7,
     "metadata": {},
     "output_type": "execute_result"
    }
   ],
   "source": [
    "x_train[100]"
   ]
  },
  {
   "cell_type": "code",
   "execution_count": null,
   "metadata": {},
   "outputs": [],
   "source": []
  }
 ],
 "metadata": {
  "kernelspec": {
   "display_name": "Python 3",
   "language": "python",
   "name": "python3"
  },
  "language_info": {
   "codemirror_mode": {
    "name": "ipython",
    "version": 3
   },
   "file_extension": ".py",
   "mimetype": "text/x-python",
   "name": "python",
   "nbconvert_exporter": "python",
   "pygments_lexer": "ipython3",
   "version": "3.6.6"
  }
 },
 "nbformat": 4,
 "nbformat_minor": 2
}
